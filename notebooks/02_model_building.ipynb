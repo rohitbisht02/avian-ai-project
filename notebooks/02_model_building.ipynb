{
 "cells": [
  {
   "cell_type": "code",
   "execution_count": 1,
   "id": "974c790c",
   "metadata": {},
   "outputs": [
    {
     "name": "stdout",
     "output_type": "stream",
     "text": [
      "TensorFlow Version: 2.12.0\n",
      "Librosa Version: 0.10.1\n"
     ]
    }
   ],
   "source": [
    "import tensorflow as tf\n",
    "import librosa\n",
    "\n",
    "print(f\"TensorFlow Version: {tf.__version__}\")\n",
    "print(f\"Librosa Version: {librosa.__version__}\")"
   ]
  },
  {
   "cell_type": "markdown",
   "id": "67d30cfb",
   "metadata": {},
   "source": [
    "Cell 1: Imports\n",
    "This cell imports all the main libraries we'll need for this phase"
   ]
  },
  {
   "cell_type": "code",
   "execution_count": 2,
   "id": "c3799171",
   "metadata": {},
   "outputs": [
    {
     "name": "stdout",
     "output_type": "stream",
     "text": [
      "TensorFlow Version: 2.12.0\n"
     ]
    }
   ],
   "source": [
    "import os\n",
    "import numpy as np\n",
    "import pandas as pd\n",
    "import tensorflow as tf\n",
    "import matplotlib.pyplot as plt\n",
    "from sklearn.model_selection import train_test_split\n",
    "from sklearn.preprocessing import MultiLabelBinarizer\n",
    "from sklearn.metrics import classification_report\n",
    "import pickle\n",
    "\n",
    "print(\"TensorFlow Version:\", tf.__version__)"
   ]
  },
  {
   "cell_type": "markdown",
   "id": "adf19adc",
   "metadata": {},
   "source": [
    "Cell 2: Load Image Paths and Prepare Labels\n",
    "This cell will get a list of all our spectrogram image paths. More importantly, it will convert our text labels (the species names) into a binary format ([0, 1, 0, 0, ...]) that the neural network can understand."
   ]
  },
  {
   "cell_type": "code",
   "execution_count": 3,
   "id": "09477fc2",
   "metadata": {},
   "outputs": [
    {
     "name": "stdout",
     "output_type": "stream",
     "text": [
      "Filtered down to 24459 spectrograms belonging to 182 classes (with >= 5 samples each).\n",
      "\n",
      "Shape of our data (X): 24459\n",
      "Shape of our labels (y): (24459, 182)\n"
     ]
    }
   ],
   "source": [
    "SPECTROGRAM_DIR = '../data/birds/spectrograms/'\n",
    "\n",
    "files = os.listdir(SPECTROGRAM_DIR)\n",
    "filepaths = [os.path.join(SPECTROGRAM_DIR, f) for f in files if f.endswith('.png')]\n",
    "labels = [f.split('_')[0] for f in files if f.endswith('.png')]\n",
    "\n",
    "labels_series = pd.Series(labels)\n",
    "class_counts = labels_series.value_counts()\n",
    "\n",
    "# Filter for classes with at least 5 samples for a robust split\n",
    "classes_to_keep = class_counts[class_counts >= 5].index.tolist()\n",
    "\n",
    "filtered_indices = labels_series.isin(classes_to_keep)\n",
    "filepaths = np.array(filepaths)[filtered_indices].tolist()\n",
    "labels = labels_series[filtered_indices].tolist()\n",
    "\n",
    "classes = sorted(list(set(labels)))\n",
    "print(f\"Filtered down to {len(filepaths)} spectrograms belonging to {len(classes)} classes (with >= 5 samples each).\")\n",
    "\n",
    "mlb = MultiLabelBinarizer(classes=classes)\n",
    "y = mlb.fit_transform([[label] for label in labels])\n",
    "\n",
    "print(\"\\nShape of our data (X):\", len(filepaths))\n",
    "print(\"Shape of our labels (y):\", y.shape)"
   ]
  },
  {
   "cell_type": "markdown",
   "id": "e99729d3",
   "metadata": {},
   "source": [
    "Cell 3: Split the Data\n",
    "This cell splits your file paths and labels into training (70%), validation (15%), and test (15%) sets. We use stratify=y to ensure that all three sets have a proportional representation of each bird species."
   ]
  },
  {
   "cell_type": "code",
   "execution_count": 4,
   "id": "667681b8",
   "metadata": {},
   "outputs": [
    {
     "name": "stdout",
     "output_type": "stream",
     "text": [
      "Training set size: 15653\n",
      "Validation set size: 3914\n",
      "Test set size: 4892\n"
     ]
    }
   ],
   "source": [
    "# First, split into a training+validation set (80%) and a test set (20%)\n",
    "X_train_val, X_test, y_train_val, y_test = train_test_split(\n",
    "    filepaths, \n",
    "    y, \n",
    "    test_size=0.20, \n",
    "    random_state=42, \n",
    "    stratify=y\n",
    ")\n",
    "\n",
    "# Next, split the training+validation set into a final training set and a validation set\n",
    "X_train, X_val, y_train, y_val = train_test_split(\n",
    "    X_train_val, \n",
    "    y_train_val, \n",
    "    test_size=0.20, \n",
    "    random_state=42, \n",
    "    stratify=y_train_val\n",
    ")\n",
    "\n",
    "print(\"Training set size:\", len(X_train))\n",
    "print(\"Validation set size:\", len(X_val))\n",
    "print(\"Test set size:\", len(X_test))"
   ]
  },
  {
   "cell_type": "markdown",
   "id": "c6610acf",
   "metadata": {},
   "source": [
    "Step 3: Create a Data Pipeline\n",
    "This step involves two parts:\n",
    "\n",
    "A function to load and preprocess a single image.\n",
    "\n",
    "Using that function to build a tf.data.Dataset for each of our sets (train, validation, test)"
   ]
  },
  {
   "cell_type": "markdown",
   "id": "8c546064",
   "metadata": {},
   "source": [
    "Cell 4: Preprocessing Function\n",
    "This function takes a file path, reads the PNG image, resizes it to a standard size (e.g., 128x128), and normalizes the pixel values to be between 0 and 1."
   ]
  },
  {
   "cell_type": "code",
   "execution_count": 5,
   "id": "ae816ebf",
   "metadata": {},
   "outputs": [
    {
     "name": "stdout",
     "output_type": "stream",
     "text": [
      "Training, validation, and test datasets are ready.\n"
     ]
    }
   ],
   "source": [
    "from tensorflow.keras.applications.efficientnet_v2 import preprocess_input\n",
    "\n",
    "IMG_SIZE = 128\n",
    "BATCH_SIZE = 32\n",
    "\n",
    "def load_and_preprocess_image(path, label):\n",
    "    image = tf.io.read_file(path)\n",
    "    image = tf.io.decode_png(image, channels=3)\n",
    "    image = tf.image.resize(image, [IMG_SIZE, IMG_SIZE])\n",
    "    image = tf.cast(image, tf.float32)\n",
    "    image = preprocess_input(image) \n",
    "    return image, label\n",
    "\n",
    "train_ds = tf.data.Dataset.from_tensor_slices((X_train, y_train))\n",
    "train_ds = train_ds.map(load_and_preprocess_image, num_parallel_calls=tf.data.AUTOTUNE)\n",
    "train_ds = train_ds.shuffle(buffer_size=len(X_train)).batch(BATCH_SIZE).prefetch(buffer_size=tf.data.AUTOTUNE)\n",
    "\n",
    "val_ds = tf.data.Dataset.from_tensor_slices((X_val, y_val))\n",
    "val_ds = val_ds.map(load_and_preprocess_image, num_parallel_calls=tf.data.AUTOTUNE)\n",
    "val_ds = val_ds.batch(BATCH_SIZE).prefetch(buffer_size=tf.data.AUTOTUNE)\n",
    "\n",
    "test_ds = tf.data.Dataset.from_tensor_slices((X_test, y_test))\n",
    "test_ds = test_ds.map(load_and_preprocess_image, num_parallel_calls=tf.data.AUTOTUNE)\n",
    "test_ds = test_ds.batch(BATCH_SIZE).prefetch(buffer_size=tf.data.AUTOTUNE)\n",
    "\n",
    "print(\"Training, validation, and test datasets are ready.\")"
   ]
  },
  {
   "cell_type": "markdown",
   "id": "03d34d4f",
   "metadata": {},
   "source": [
    "*Cell 5: Build the Datasets*\n",
    "\n",
    "\n",
    "\n",
    "Now we'll use the function from the previous cell to build our data pipelines. We'll shuffle and batch the training data for effective learning and batch the validation/test data for efficient evaluation"
   ]
  },
  {
   "cell_type": "code",
   "execution_count": 6,
   "id": "3c170b74",
   "metadata": {},
   "outputs": [
    {
     "name": "stdout",
     "output_type": "stream",
     "text": [
      "Model: \"sequential\"\n",
      "_________________________________________________________________\n",
      " Layer (type)                Output Shape              Param #   \n",
      "=================================================================\n",
      " efficientnetv2-b0 (Function  (None, 4, 4, 1280)       5919312   \n",
      " al)                                                             \n",
      "                                                                 \n",
      " global_average_pooling2d (G  (None, 1280)             0         \n",
      " lobalAveragePooling2D)                                          \n",
      "                                                                 \n",
      " dropout (Dropout)           (None, 1280)              0         \n",
      "                                                                 \n",
      " dense (Dense)               (None, 182)               233142    \n",
      "                                                                 \n",
      "=================================================================\n",
      "Total params: 6,152,454\n",
      "Trainable params: 233,142\n",
      "Non-trainable params: 5,919,312\n",
      "_________________________________________________________________\n"
     ]
    }
   ],
   "source": [
    "from tensorflow.keras.applications import EfficientNetV2B0\n",
    "from tensorflow.keras import layers, models\n",
    "\n",
    "NUM_CLASSES = len(mlb.classes_)\n",
    "\n",
    "base_model = EfficientNetV2B0(\n",
    "    include_top=False,\n",
    "    weights='imagenet',\n",
    "    input_shape=(IMG_SIZE, IMG_SIZE, 3)\n",
    ")\n",
    "base_model.trainable = False\n",
    "\n",
    "model = models.Sequential([\n",
    "    base_model,\n",
    "    layers.GlobalAveragePooling2D(),\n",
    "    layers.Dropout(0.5),\n",
    "    layers.Dense(NUM_CLASSES, activation='sigmoid')\n",
    "])\n",
    "\n",
    "model.summary()"
   ]
  },
  {
   "cell_type": "markdown",
   "id": "d176adcc",
   "metadata": {},
   "source": [
    "\n",
    "\n",
    "Step 4: Build the CNN Model Architecture\n",
    "We will use the Keras Sequential API from TensorFlow to build our model. Think of this as stacking layers on top of each other.\n",
    "\n",
    "Conv2D and MaxPooling2D: These are the core layers for image processing. They work together to find patterns like edges, textures, and shapes in the spectrograms.\n",
    "\n",
    "Flatten: This layer converts the 2D image data into a flat 1D list so it can be processed by the final classification layers.\n",
    "\n",
    "Dense: These are the standard, fully-connected layers that perform the final classification.\n",
    "\n",
    "Dropout: This is a regularization technique that helps prevent the model from \"memorizing\" the training data (overfitting)."
   ]
  },
  {
   "cell_type": "markdown",
   "id": "3c6d6019",
   "metadata": {},
   "source": [
    "Cell 6: Define the Model\n"
   ]
  },
  {
   "cell_type": "code",
   "execution_count": 7,
   "id": "6804e592",
   "metadata": {},
   "outputs": [
    {
     "name": "stdout",
     "output_type": "stream",
     "text": [
      "Model: \"sequential_1\"\n",
      "_________________________________________________________________\n",
      " Layer (type)                Output Shape              Param #   \n",
      "=================================================================\n",
      " efficientnetv2-b0 (Function  (None, 4, 4, 1280)       5919312   \n",
      " al)                                                             \n",
      "                                                                 \n",
      " global_average_pooling2d_1   (None, 1280)             0         \n",
      " (GlobalAveragePooling2D)                                        \n",
      "                                                                 \n",
      " dropout_1 (Dropout)         (None, 1280)              0         \n",
      "                                                                 \n",
      " dense_1 (Dense)             (None, 182)               233142    \n",
      "                                                                 \n",
      "=================================================================\n",
      "Total params: 6,152,454\n",
      "Trainable params: 233,142\n",
      "Non-trainable params: 5,919,312\n",
      "_________________________________________________________________\n"
     ]
    }
   ],
   "source": [
    "from tensorflow.keras.applications import EfficientNetV2B0\n",
    "from tensorflow.keras import layers, models\n",
    "\n",
    "# Get the number of classes from our label binarizer\n",
    "NUM_CLASSES = len(mlb.classes_)\n",
    "\n",
    "# 1. Load the pre-trained model (base model)\n",
    "# We will not include the final classification layer (include_top=False)\n",
    "base_model = EfficientNetV2B0(\n",
    "    include_top=False,\n",
    "    weights='imagenet', # Use weights pre-trained on ImageNet\n",
    "    input_shape=(IMG_SIZE, IMG_SIZE, 3)\n",
    ")\n",
    "\n",
    "# 2. Freeze the base model\n",
    "# This prevents the learned weights of the base model from changing during training\n",
    "base_model.trainable = False\n",
    "\n",
    "# 3. Add our new classification layers on top\n",
    "model = models.Sequential([\n",
    "    base_model,\n",
    "    layers.GlobalAveragePooling2D(), # A layer to reduce the feature dimensions\n",
    "    layers.Dropout(0.5), # Regularization to prevent overfitting\n",
    "    layers.Dense(NUM_CLASSES, activation='sigmoid') # Our final output layer\n",
    "])\n",
    "\n",
    "# Print a summary of the new model's architecture\n",
    "model.summary() "
   ]
  },
  {
   "cell_type": "markdown",
   "id": "123bb41b",
   "metadata": {},
   "source": [
    "Step 5: Compile the Model\n",
    "Compiling the model configures it for training. We need to specify three key things:\n",
    "\n",
    "Optimizer: The algorithm that updates the model's weights. Adam is a robust and popular choice.\n",
    "\n",
    "Loss Function: How the model measures its error. For multi-label classification (where multiple birds can be present), binary_crossentropy is the correct choice.\n",
    "\n",
    "Metrics: What we monitor during training. We'll start with accuracy."
   ]
  },
  {
   "cell_type": "markdown",
   "id": "d32d3a93",
   "metadata": {},
   "source": [
    "Cell 7: Compile the Model"
   ]
  },
  {
   "cell_type": "code",
   "execution_count": 8,
   "id": "76c3b174",
   "metadata": {},
   "outputs": [
    {
     "name": "stdout",
     "output_type": "stream",
     "text": [
      "Model compiled successfully.\n"
     ]
    }
   ],
   "source": [
    "model.compile(\n",
    "    optimizer=tf.keras.optimizers.Adam(learning_rate=0.0001),\n",
    "    loss='binary_crossentropy',\n",
    "    metrics=['accuracy']\n",
    ")\n",
    "\n",
    "print(\"Model compiled successfully.\")"
   ]
  },
  {
   "cell_type": "markdown",
   "id": "7c0cebea",
   "metadata": {},
   "source": [
    "Step 6: Train the Model\n",
    "We will now \"fit\" the model to our data. This is the process where the model learns the patterns in the spectrograms. We will call the model.fit() function, providing it with our training and validation datasets.\n",
    "\n",
    "Epoch: One complete pass through the entire training dataset. We'll start with 10 epochs.\n",
    "\n",
    "This step is computationally intensive and will take some time. You will see live output as the model trains, showing you its accuracy and loss on both the training and validation data for each epoch."
   ]
  },
  {
   "cell_type": "markdown",
   "id": "11ca63e3",
   "metadata": {},
   "source": [
    "Cell 8: Start Training"
   ]
  },
  {
   "cell_type": "code",
   "execution_count": 9,
   "id": "817424e8",
   "metadata": {},
   "outputs": [
    {
     "name": "stdout",
     "output_type": "stream",
     "text": [
      "[]\n"
     ]
    }
   ],
   "source": [
    "import tensorflow as tf\n",
    "print(tf.config.list_physical_devices('GPU'))"
   ]
  },
  {
   "cell_type": "code",
   "execution_count": 10,
   "id": "2d9e6653",
   "metadata": {},
   "outputs": [
    {
     "name": "stdout",
     "output_type": "stream",
     "text": [
      "Epoch 1/100\n",
      "490/490 [==============================] - 153s 291ms/step - loss: 0.1677 - accuracy: 0.0067 - val_loss: 0.0457 - val_accuracy: 0.0164\n",
      "Epoch 2/100\n",
      "490/490 [==============================] - 203s 403ms/step - loss: 0.0427 - accuracy: 0.0234 - val_loss: 0.0343 - val_accuracy: 0.0723\n",
      "Epoch 3/100\n",
      "490/490 [==============================] - 213s 422ms/step - loss: 0.0353 - accuracy: 0.0507 - val_loss: 0.0318 - val_accuracy: 0.1004\n",
      "Epoch 4/100\n",
      "490/490 [==============================] - 232s 460ms/step - loss: 0.0329 - accuracy: 0.0698 - val_loss: 0.0307 - val_accuracy: 0.1242\n",
      "Epoch 5/100\n",
      "490/490 [==============================] - 242s 482ms/step - loss: 0.0317 - accuracy: 0.0880 - val_loss: 0.0300 - val_accuracy: 0.1423\n",
      "Epoch 6/100\n",
      "490/490 [==============================] - 259s 514ms/step - loss: 0.0308 - accuracy: 0.1089 - val_loss: 0.0294 - val_accuracy: 0.1551\n",
      "Epoch 7/100\n",
      "490/490 [==============================] - 272s 541ms/step - loss: 0.0301 - accuracy: 0.1241 - val_loss: 0.0289 - val_accuracy: 0.1666\n",
      "Epoch 8/100\n",
      "490/490 [==============================] - 296s 590ms/step - loss: 0.0296 - accuracy: 0.1356 - val_loss: 0.0285 - val_accuracy: 0.1783\n",
      "Epoch 9/100\n",
      "490/490 [==============================] - 295s 586ms/step - loss: 0.0291 - accuracy: 0.1451 - val_loss: 0.0281 - val_accuracy: 0.1840\n",
      "Epoch 10/100\n",
      "490/490 [==============================] - 305s 606ms/step - loss: 0.0286 - accuracy: 0.1600 - val_loss: 0.0278 - val_accuracy: 0.1937\n",
      "Epoch 11/100\n",
      "490/490 [==============================] - 316s 628ms/step - loss: 0.0282 - accuracy: 0.1673 - val_loss: 0.0275 - val_accuracy: 0.1990\n",
      "Epoch 12/100\n",
      "490/490 [==============================] - 331s 657ms/step - loss: 0.0278 - accuracy: 0.1766 - val_loss: 0.0272 - val_accuracy: 0.1995\n",
      "Epoch 13/100\n",
      "490/490 [==============================] - 337s 669ms/step - loss: 0.0276 - accuracy: 0.1816 - val_loss: 0.0269 - val_accuracy: 0.2098\n",
      "Epoch 14/100\n",
      "490/490 [==============================] - 350s 696ms/step - loss: 0.0272 - accuracy: 0.1906 - val_loss: 0.0267 - val_accuracy: 0.2161\n",
      "Epoch 15/100\n",
      "490/490 [==============================] - 357s 710ms/step - loss: 0.0269 - accuracy: 0.2018 - val_loss: 0.0265 - val_accuracy: 0.2169\n",
      "Epoch 16/100\n",
      "490/490 [==============================] - 365s 725ms/step - loss: 0.0267 - accuracy: 0.2077 - val_loss: 0.0263 - val_accuracy: 0.2236\n",
      "Epoch 17/100\n",
      "490/490 [==============================] - 374s 744ms/step - loss: 0.0264 - accuracy: 0.2154 - val_loss: 0.0261 - val_accuracy: 0.2282\n",
      "Epoch 18/100\n",
      "490/490 [==============================] - 380s 756ms/step - loss: 0.0262 - accuracy: 0.2165 - val_loss: 0.0260 - val_accuracy: 0.2315\n",
      "Epoch 19/100\n",
      "490/490 [==============================] - 393s 781ms/step - loss: 0.0260 - accuracy: 0.2231 - val_loss: 0.0258 - val_accuracy: 0.2325\n",
      "Epoch 20/100\n",
      "490/490 [==============================] - 397s 789ms/step - loss: 0.0258 - accuracy: 0.2278 - val_loss: 0.0256 - val_accuracy: 0.2366\n",
      "Epoch 21/100\n",
      "490/490 [==============================] - 400s 794ms/step - loss: 0.0256 - accuracy: 0.2300 - val_loss: 0.0255 - val_accuracy: 0.2417\n",
      "Epoch 22/100\n",
      "490/490 [==============================] - 412s 818ms/step - loss: 0.0255 - accuracy: 0.2405 - val_loss: 0.0254 - val_accuracy: 0.2412\n",
      "Epoch 23/100\n",
      "490/490 [==============================] - 429s 853ms/step - loss: 0.0253 - accuracy: 0.2391 - val_loss: 0.0253 - val_accuracy: 0.2478\n",
      "Epoch 24/100\n",
      "490/490 [==============================] - 428s 850ms/step - loss: 0.0252 - accuracy: 0.2423 - val_loss: 0.0252 - val_accuracy: 0.2481\n",
      "Epoch 25/100\n",
      "490/490 [==============================] - 433s 859ms/step - loss: 0.0250 - accuracy: 0.2440 - val_loss: 0.0251 - val_accuracy: 0.2540\n",
      "Epoch 26/100\n",
      "490/490 [==============================] - 447s 889ms/step - loss: 0.0249 - accuracy: 0.2495 - val_loss: 0.0250 - val_accuracy: 0.2578\n",
      "Epoch 27/100\n",
      "490/490 [==============================] - 453s 900ms/step - loss: 0.0247 - accuracy: 0.2570 - val_loss: 0.0249 - val_accuracy: 0.2596\n",
      "Epoch 28/100\n",
      "490/490 [==============================] - 451s 896ms/step - loss: 0.0246 - accuracy: 0.2594 - val_loss: 0.0248 - val_accuracy: 0.2619\n",
      "Epoch 29/100\n",
      "490/490 [==============================] - 460s 913ms/step - loss: 0.0245 - accuracy: 0.2538 - val_loss: 0.0247 - val_accuracy: 0.2609\n",
      "Epoch 30/100\n",
      "490/490 [==============================] - 463s 919ms/step - loss: 0.0243 - accuracy: 0.2638 - val_loss: 0.0246 - val_accuracy: 0.2665\n",
      "Epoch 31/100\n",
      "490/490 [==============================] - 468s 930ms/step - loss: 0.0243 - accuracy: 0.2610 - val_loss: 0.0246 - val_accuracy: 0.2667\n",
      "Epoch 32/100\n",
      "490/490 [==============================] - 475s 945ms/step - loss: 0.0242 - accuracy: 0.2684 - val_loss: 0.0245 - val_accuracy: 0.2667\n",
      "Epoch 33/100\n",
      "490/490 [==============================] - 484s 962ms/step - loss: 0.0241 - accuracy: 0.2693 - val_loss: 0.0244 - val_accuracy: 0.2718\n",
      "Epoch 34/100\n",
      "490/490 [==============================] - 487s 967ms/step - loss: 0.0240 - accuracy: 0.2732 - val_loss: 0.0243 - val_accuracy: 0.2741\n",
      "Epoch 35/100\n",
      "490/490 [==============================] - 500s 994ms/step - loss: 0.0238 - accuracy: 0.2774 - val_loss: 0.0243 - val_accuracy: 0.2731\n",
      "Epoch 36/100\n",
      "490/490 [==============================] - 497s 988ms/step - loss: 0.0238 - accuracy: 0.2777 - val_loss: 0.0242 - val_accuracy: 0.2749\n",
      "Epoch 37/100\n",
      "490/490 [==============================] - 506s 1s/step - loss: 0.0237 - accuracy: 0.2825 - val_loss: 0.0242 - val_accuracy: 0.2767\n",
      "Epoch 38/100\n",
      "490/490 [==============================] - 506s 1s/step - loss: 0.0236 - accuracy: 0.2823 - val_loss: 0.0241 - val_accuracy: 0.2775\n",
      "Epoch 39/100\n",
      "490/490 [==============================] - 509s 1s/step - loss: 0.0235 - accuracy: 0.2892 - val_loss: 0.0241 - val_accuracy: 0.2772\n",
      "Epoch 40/100\n",
      "490/490 [==============================] - 519s 1s/step - loss: 0.0235 - accuracy: 0.2881 - val_loss: 0.0240 - val_accuracy: 0.2800\n",
      "Epoch 41/100\n",
      "490/490 [==============================] - 527s 1s/step - loss: 0.0234 - accuracy: 0.2858 - val_loss: 0.0240 - val_accuracy: 0.2818\n",
      "Epoch 42/100\n",
      "490/490 [==============================] - 534s 1s/step - loss: 0.0233 - accuracy: 0.2931 - val_loss: 0.0239 - val_accuracy: 0.2849\n",
      "Epoch 43/100\n",
      "490/490 [==============================] - 534s 1s/step - loss: 0.0232 - accuracy: 0.2937 - val_loss: 0.0239 - val_accuracy: 0.2849\n",
      "Epoch 44/100\n",
      "490/490 [==============================] - 545s 1s/step - loss: 0.0232 - accuracy: 0.2949 - val_loss: 0.0238 - val_accuracy: 0.2859\n",
      "Epoch 45/100\n",
      "490/490 [==============================] - 551s 1s/step - loss: 0.0231 - accuracy: 0.2945 - val_loss: 0.0238 - val_accuracy: 0.2849\n",
      "Epoch 46/100\n",
      "490/490 [==============================] - 552s 1s/step - loss: 0.0230 - accuracy: 0.2990 - val_loss: 0.0238 - val_accuracy: 0.2856\n",
      "Epoch 47/100\n",
      "490/490 [==============================] - 560s 1s/step - loss: 0.0230 - accuracy: 0.2996 - val_loss: 0.0237 - val_accuracy: 0.2882\n",
      "Epoch 48/100\n",
      "490/490 [==============================] - 558s 1s/step - loss: 0.0230 - accuracy: 0.3039 - val_loss: 0.0237 - val_accuracy: 0.2856\n",
      "Epoch 49/100\n",
      "490/490 [==============================] - 561s 1s/step - loss: 0.0229 - accuracy: 0.3007 - val_loss: 0.0236 - val_accuracy: 0.2856\n",
      "Epoch 50/100\n",
      "490/490 [==============================] - 568s 1s/step - loss: 0.0228 - accuracy: 0.3060 - val_loss: 0.0236 - val_accuracy: 0.2908\n",
      "Epoch 51/100\n",
      "490/490 [==============================] - 619s 1s/step - loss: 0.0228 - accuracy: 0.3088 - val_loss: 0.0236 - val_accuracy: 0.2943\n",
      "Epoch 52/100\n",
      "490/490 [==============================] - 607s 1s/step - loss: 0.0227 - accuracy: 0.3093 - val_loss: 0.0236 - val_accuracy: 0.2925\n",
      "Epoch 53/100\n",
      "490/490 [==============================] - 617s 1s/step - loss: 0.0226 - accuracy: 0.3108 - val_loss: 0.0235 - val_accuracy: 0.2948\n",
      "Epoch 54/100\n",
      "490/490 [==============================] - 618s 1s/step - loss: 0.0226 - accuracy: 0.3105 - val_loss: 0.0235 - val_accuracy: 0.2959\n",
      "Epoch 55/100\n",
      "490/490 [==============================] - 630s 1s/step - loss: 0.0226 - accuracy: 0.3097 - val_loss: 0.0235 - val_accuracy: 0.2969\n",
      "Epoch 56/100\n",
      "490/490 [==============================] - 620s 1s/step - loss: 0.0225 - accuracy: 0.3134 - val_loss: 0.0235 - val_accuracy: 0.2936\n",
      "Epoch 57/100\n",
      "490/490 [==============================] - 625s 1s/step - loss: 0.0225 - accuracy: 0.3150 - val_loss: 0.0234 - val_accuracy: 0.2987\n",
      "Epoch 58/100\n",
      "490/490 [==============================] - 635s 1s/step - loss: 0.0224 - accuracy: 0.3154 - val_loss: 0.0234 - val_accuracy: 0.2997\n",
      "Epoch 59/100\n",
      "490/490 [==============================] - 637s 1s/step - loss: 0.0224 - accuracy: 0.3165 - val_loss: 0.0234 - val_accuracy: 0.2984\n",
      "Epoch 60/100\n",
      "490/490 [==============================] - 638s 1s/step - loss: 0.0223 - accuracy: 0.3206 - val_loss: 0.0233 - val_accuracy: 0.2989\n",
      "Epoch 61/100\n",
      "490/490 [==============================] - 636s 1s/step - loss: 0.0224 - accuracy: 0.3213 - val_loss: 0.0233 - val_accuracy: 0.3028\n",
      "Epoch 62/100\n",
      "490/490 [==============================] - 644s 1s/step - loss: 0.0222 - accuracy: 0.3179 - val_loss: 0.0233 - val_accuracy: 0.3017\n",
      "Epoch 63/100\n",
      "490/490 [==============================] - 650s 1s/step - loss: 0.0223 - accuracy: 0.3220 - val_loss: 0.0233 - val_accuracy: 0.3033\n",
      "Epoch 64/100\n",
      "490/490 [==============================] - 672s 1s/step - loss: 0.0222 - accuracy: 0.3230 - val_loss: 0.0232 - val_accuracy: 0.3066\n",
      "Epoch 65/100\n",
      "490/490 [==============================] - 649s 1s/step - loss: 0.0221 - accuracy: 0.3242 - val_loss: 0.0232 - val_accuracy: 0.3068\n",
      "Epoch 66/100\n",
      "490/490 [==============================] - 663s 1s/step - loss: 0.0221 - accuracy: 0.3300 - val_loss: 0.0232 - val_accuracy: 0.3051\n",
      "Epoch 67/100\n",
      "490/490 [==============================] - 655s 1s/step - loss: 0.0220 - accuracy: 0.3282 - val_loss: 0.0232 - val_accuracy: 0.3063\n",
      "Epoch 68/100\n",
      "490/490 [==============================] - 668s 1s/step - loss: 0.0220 - accuracy: 0.3275 - val_loss: 0.0232 - val_accuracy: 0.3081\n",
      "Epoch 69/100\n",
      "490/490 [==============================] - 671s 1s/step - loss: 0.0219 - accuracy: 0.3350 - val_loss: 0.0232 - val_accuracy: 0.3102\n",
      "Epoch 70/100\n",
      "490/490 [==============================] - 669s 1s/step - loss: 0.0219 - accuracy: 0.3282 - val_loss: 0.0231 - val_accuracy: 0.3099\n",
      "Epoch 71/100\n",
      "490/490 [==============================] - 660s 1s/step - loss: 0.0219 - accuracy: 0.3321 - val_loss: 0.0231 - val_accuracy: 0.3114\n",
      "Epoch 72/100\n",
      "490/490 [==============================] - 682s 1s/step - loss: 0.0218 - accuracy: 0.3309 - val_loss: 0.0231 - val_accuracy: 0.3107\n",
      "Epoch 73/100\n",
      "490/490 [==============================] - 667s 1s/step - loss: 0.0218 - accuracy: 0.3350 - val_loss: 0.0231 - val_accuracy: 0.3132\n",
      "Epoch 74/100\n",
      "490/490 [==============================] - 682s 1s/step - loss: 0.0218 - accuracy: 0.3337 - val_loss: 0.0231 - val_accuracy: 0.3117\n",
      "Epoch 75/100\n",
      "490/490 [==============================] - 675s 1s/step - loss: 0.0217 - accuracy: 0.3365 - val_loss: 0.0230 - val_accuracy: 0.3079\n",
      "Epoch 76/100\n",
      "490/490 [==============================] - 681s 1s/step - loss: 0.0217 - accuracy: 0.3362 - val_loss: 0.0230 - val_accuracy: 0.3122\n",
      "Epoch 77/100\n",
      "490/490 [==============================] - 719s 1s/step - loss: 0.0217 - accuracy: 0.3360 - val_loss: 0.0230 - val_accuracy: 0.3112\n",
      "Epoch 78/100\n",
      "490/490 [==============================] - 686s 1s/step - loss: 0.0216 - accuracy: 0.3440 - val_loss: 0.0230 - val_accuracy: 0.3137\n",
      "Epoch 79/100\n",
      "490/490 [==============================] - 659s 1s/step - loss: 0.0216 - accuracy: 0.3447 - val_loss: 0.0230 - val_accuracy: 0.3148\n",
      "Epoch 80/100\n",
      "490/490 [==============================] - 754s 1s/step - loss: 0.0216 - accuracy: 0.3433 - val_loss: 0.0230 - val_accuracy: 0.3163\n",
      "Epoch 81/100\n",
      "490/490 [==============================] - 744s 1s/step - loss: 0.0216 - accuracy: 0.3428 - val_loss: 0.0230 - val_accuracy: 0.3148\n",
      "Epoch 82/100\n",
      "490/490 [==============================] - 693s 1s/step - loss: 0.0216 - accuracy: 0.3421 - val_loss: 0.0229 - val_accuracy: 0.3160\n",
      "Epoch 83/100\n",
      "490/490 [==============================] - 669s 1s/step - loss: 0.0215 - accuracy: 0.3426 - val_loss: 0.0229 - val_accuracy: 0.3168\n",
      "Epoch 84/100\n",
      "490/490 [==============================] - 704s 1s/step - loss: 0.0214 - accuracy: 0.3426 - val_loss: 0.0229 - val_accuracy: 0.3166\n",
      "Epoch 85/100\n",
      "490/490 [==============================] - 740s 1s/step - loss: 0.0215 - accuracy: 0.3434 - val_loss: 0.0229 - val_accuracy: 0.3145\n",
      "Epoch 86/100\n",
      "490/490 [==============================] - 711s 1s/step - loss: 0.0214 - accuracy: 0.3488 - val_loss: 0.0229 - val_accuracy: 0.3166\n",
      "Epoch 87/100\n",
      "490/490 [==============================] - 713s 1s/step - loss: 0.0214 - accuracy: 0.3481 - val_loss: 0.0229 - val_accuracy: 0.3196\n",
      "Epoch 88/100\n",
      " 60/490 [==>...........................] - ETA: 21:00 - loss: 0.0211 - accuracy: 0.3589"
     ]
    },
    {
     "ename": "KeyboardInterrupt",
     "evalue": "",
     "output_type": "error",
     "traceback": [
      "\u001b[1;31m---------------------------------------------------------------------------\u001b[0m",
      "\u001b[1;31mKeyboardInterrupt\u001b[0m                         Traceback (most recent call last)",
      "Cell \u001b[1;32mIn[10], line 3\u001b[0m\n\u001b[0;32m      1\u001b[0m EPOCHS \u001b[38;5;241m=\u001b[39m \u001b[38;5;241m100\u001b[39m\n\u001b[1;32m----> 3\u001b[0m history \u001b[38;5;241m=\u001b[39m \u001b[43mmodel\u001b[49m\u001b[38;5;241;43m.\u001b[39;49m\u001b[43mfit\u001b[49m\u001b[43m(\u001b[49m\n\u001b[0;32m      4\u001b[0m \u001b[43m    \u001b[49m\u001b[43mtrain_ds\u001b[49m\u001b[43m,\u001b[49m\n\u001b[0;32m      5\u001b[0m \u001b[43m    \u001b[49m\u001b[43mvalidation_data\u001b[49m\u001b[38;5;241;43m=\u001b[39;49m\u001b[43mval_ds\u001b[49m\u001b[43m,\u001b[49m\n\u001b[0;32m      6\u001b[0m \u001b[43m    \u001b[49m\u001b[43mepochs\u001b[49m\u001b[38;5;241;43m=\u001b[39;49m\u001b[43mEPOCHS\u001b[49m\n\u001b[0;32m      7\u001b[0m \u001b[43m)\u001b[49m\n\u001b[0;32m      9\u001b[0m \u001b[38;5;28mprint\u001b[39m(\u001b[38;5;124m\"\u001b[39m\u001b[38;5;130;01m\\n\u001b[39;00m\u001b[38;5;124mModel training complete!\u001b[39m\u001b[38;5;124m\"\u001b[39m)\n",
      "File \u001b[1;32mc:\\Projects\\Final_year_project\\species_env\\lib\\site-packages\\keras\\utils\\traceback_utils.py:65\u001b[0m, in \u001b[0;36mfilter_traceback.<locals>.error_handler\u001b[1;34m(*args, **kwargs)\u001b[0m\n\u001b[0;32m     63\u001b[0m filtered_tb \u001b[38;5;241m=\u001b[39m \u001b[38;5;28;01mNone\u001b[39;00m\n\u001b[0;32m     64\u001b[0m \u001b[38;5;28;01mtry\u001b[39;00m:\n\u001b[1;32m---> 65\u001b[0m     \u001b[38;5;28;01mreturn\u001b[39;00m fn(\u001b[38;5;241m*\u001b[39margs, \u001b[38;5;241m*\u001b[39m\u001b[38;5;241m*\u001b[39mkwargs)\n\u001b[0;32m     66\u001b[0m \u001b[38;5;28;01mexcept\u001b[39;00m \u001b[38;5;167;01mException\u001b[39;00m \u001b[38;5;28;01mas\u001b[39;00m e:\n\u001b[0;32m     67\u001b[0m     filtered_tb \u001b[38;5;241m=\u001b[39m _process_traceback_frames(e\u001b[38;5;241m.\u001b[39m__traceback__)\n",
      "File \u001b[1;32mc:\\Projects\\Final_year_project\\species_env\\lib\\site-packages\\keras\\engine\\training.py:1685\u001b[0m, in \u001b[0;36mModel.fit\u001b[1;34m(self, x, y, batch_size, epochs, verbose, callbacks, validation_split, validation_data, shuffle, class_weight, sample_weight, initial_epoch, steps_per_epoch, validation_steps, validation_batch_size, validation_freq, max_queue_size, workers, use_multiprocessing)\u001b[0m\n\u001b[0;32m   1677\u001b[0m \u001b[38;5;28;01mwith\u001b[39;00m tf\u001b[38;5;241m.\u001b[39mprofiler\u001b[38;5;241m.\u001b[39mexperimental\u001b[38;5;241m.\u001b[39mTrace(\n\u001b[0;32m   1678\u001b[0m     \u001b[38;5;124m\"\u001b[39m\u001b[38;5;124mtrain\u001b[39m\u001b[38;5;124m\"\u001b[39m,\n\u001b[0;32m   1679\u001b[0m     epoch_num\u001b[38;5;241m=\u001b[39mepoch,\n\u001b[1;32m   (...)\u001b[0m\n\u001b[0;32m   1682\u001b[0m     _r\u001b[38;5;241m=\u001b[39m\u001b[38;5;241m1\u001b[39m,\n\u001b[0;32m   1683\u001b[0m ):\n\u001b[0;32m   1684\u001b[0m     callbacks\u001b[38;5;241m.\u001b[39mon_train_batch_begin(step)\n\u001b[1;32m-> 1685\u001b[0m     tmp_logs \u001b[38;5;241m=\u001b[39m \u001b[38;5;28;43mself\u001b[39;49m\u001b[38;5;241;43m.\u001b[39;49m\u001b[43mtrain_function\u001b[49m\u001b[43m(\u001b[49m\u001b[43miterator\u001b[49m\u001b[43m)\u001b[49m\n\u001b[0;32m   1686\u001b[0m     \u001b[38;5;28;01mif\u001b[39;00m data_handler\u001b[38;5;241m.\u001b[39mshould_sync:\n\u001b[0;32m   1687\u001b[0m         context\u001b[38;5;241m.\u001b[39masync_wait()\n",
      "File \u001b[1;32mc:\\Projects\\Final_year_project\\species_env\\lib\\site-packages\\tensorflow\\python\\util\\traceback_utils.py:150\u001b[0m, in \u001b[0;36mfilter_traceback.<locals>.error_handler\u001b[1;34m(*args, **kwargs)\u001b[0m\n\u001b[0;32m    148\u001b[0m filtered_tb \u001b[38;5;241m=\u001b[39m \u001b[38;5;28;01mNone\u001b[39;00m\n\u001b[0;32m    149\u001b[0m \u001b[38;5;28;01mtry\u001b[39;00m:\n\u001b[1;32m--> 150\u001b[0m   \u001b[38;5;28;01mreturn\u001b[39;00m fn(\u001b[38;5;241m*\u001b[39margs, \u001b[38;5;241m*\u001b[39m\u001b[38;5;241m*\u001b[39mkwargs)\n\u001b[0;32m    151\u001b[0m \u001b[38;5;28;01mexcept\u001b[39;00m \u001b[38;5;167;01mException\u001b[39;00m \u001b[38;5;28;01mas\u001b[39;00m e:\n\u001b[0;32m    152\u001b[0m   filtered_tb \u001b[38;5;241m=\u001b[39m _process_traceback_frames(e\u001b[38;5;241m.\u001b[39m__traceback__)\n",
      "File \u001b[1;32mc:\\Projects\\Final_year_project\\species_env\\lib\\site-packages\\tensorflow\\python\\eager\\polymorphic_function\\polymorphic_function.py:894\u001b[0m, in \u001b[0;36mFunction.__call__\u001b[1;34m(self, *args, **kwds)\u001b[0m\n\u001b[0;32m    891\u001b[0m compiler \u001b[38;5;241m=\u001b[39m \u001b[38;5;124m\"\u001b[39m\u001b[38;5;124mxla\u001b[39m\u001b[38;5;124m\"\u001b[39m \u001b[38;5;28;01mif\u001b[39;00m \u001b[38;5;28mself\u001b[39m\u001b[38;5;241m.\u001b[39m_jit_compile \u001b[38;5;28;01melse\u001b[39;00m \u001b[38;5;124m\"\u001b[39m\u001b[38;5;124mnonXla\u001b[39m\u001b[38;5;124m\"\u001b[39m\n\u001b[0;32m    893\u001b[0m \u001b[38;5;28;01mwith\u001b[39;00m OptionalXlaContext(\u001b[38;5;28mself\u001b[39m\u001b[38;5;241m.\u001b[39m_jit_compile):\n\u001b[1;32m--> 894\u001b[0m   result \u001b[38;5;241m=\u001b[39m \u001b[38;5;28mself\u001b[39m\u001b[38;5;241m.\u001b[39m_call(\u001b[38;5;241m*\u001b[39margs, \u001b[38;5;241m*\u001b[39m\u001b[38;5;241m*\u001b[39mkwds)\n\u001b[0;32m    896\u001b[0m new_tracing_count \u001b[38;5;241m=\u001b[39m \u001b[38;5;28mself\u001b[39m\u001b[38;5;241m.\u001b[39mexperimental_get_tracing_count()\n\u001b[0;32m    897\u001b[0m without_tracing \u001b[38;5;241m=\u001b[39m (tracing_count \u001b[38;5;241m==\u001b[39m new_tracing_count)\n",
      "File \u001b[1;32mc:\\Projects\\Final_year_project\\species_env\\lib\\site-packages\\tensorflow\\python\\eager\\polymorphic_function\\polymorphic_function.py:926\u001b[0m, in \u001b[0;36mFunction._call\u001b[1;34m(self, *args, **kwds)\u001b[0m\n\u001b[0;32m    923\u001b[0m   \u001b[38;5;28mself\u001b[39m\u001b[38;5;241m.\u001b[39m_lock\u001b[38;5;241m.\u001b[39mrelease()\n\u001b[0;32m    924\u001b[0m   \u001b[38;5;66;03m# In this case we have created variables on the first call, so we run the\u001b[39;00m\n\u001b[0;32m    925\u001b[0m   \u001b[38;5;66;03m# defunned version which is guaranteed to never create variables.\u001b[39;00m\n\u001b[1;32m--> 926\u001b[0m   \u001b[38;5;28;01mreturn\u001b[39;00m \u001b[38;5;28mself\u001b[39m\u001b[38;5;241m.\u001b[39m_no_variable_creation_fn(\u001b[38;5;241m*\u001b[39margs, \u001b[38;5;241m*\u001b[39m\u001b[38;5;241m*\u001b[39mkwds)  \u001b[38;5;66;03m# pylint: disable=not-callable\u001b[39;00m\n\u001b[0;32m    927\u001b[0m \u001b[38;5;28;01melif\u001b[39;00m \u001b[38;5;28mself\u001b[39m\u001b[38;5;241m.\u001b[39m_variable_creation_fn \u001b[38;5;129;01mis\u001b[39;00m \u001b[38;5;129;01mnot\u001b[39;00m \u001b[38;5;28;01mNone\u001b[39;00m:\n\u001b[0;32m    928\u001b[0m   \u001b[38;5;66;03m# Release the lock early so that multiple threads can perform the call\u001b[39;00m\n\u001b[0;32m    929\u001b[0m   \u001b[38;5;66;03m# in parallel.\u001b[39;00m\n\u001b[0;32m    930\u001b[0m   \u001b[38;5;28mself\u001b[39m\u001b[38;5;241m.\u001b[39m_lock\u001b[38;5;241m.\u001b[39mrelease()\n",
      "File \u001b[1;32mc:\\Projects\\Final_year_project\\species_env\\lib\\site-packages\\tensorflow\\python\\eager\\polymorphic_function\\tracing_compiler.py:143\u001b[0m, in \u001b[0;36mTracingCompiler.__call__\u001b[1;34m(self, *args, **kwargs)\u001b[0m\n\u001b[0;32m    140\u001b[0m \u001b[38;5;28;01mwith\u001b[39;00m \u001b[38;5;28mself\u001b[39m\u001b[38;5;241m.\u001b[39m_lock:\n\u001b[0;32m    141\u001b[0m   (concrete_function,\n\u001b[0;32m    142\u001b[0m    filtered_flat_args) \u001b[38;5;241m=\u001b[39m \u001b[38;5;28mself\u001b[39m\u001b[38;5;241m.\u001b[39m_maybe_define_function(args, kwargs)\n\u001b[1;32m--> 143\u001b[0m \u001b[38;5;28;01mreturn\u001b[39;00m \u001b[43mconcrete_function\u001b[49m\u001b[38;5;241;43m.\u001b[39;49m\u001b[43m_call_flat\u001b[49m\u001b[43m(\u001b[49m\n\u001b[0;32m    144\u001b[0m \u001b[43m    \u001b[49m\u001b[43mfiltered_flat_args\u001b[49m\u001b[43m,\u001b[49m\u001b[43m \u001b[49m\u001b[43mcaptured_inputs\u001b[49m\u001b[38;5;241;43m=\u001b[39;49m\u001b[43mconcrete_function\u001b[49m\u001b[38;5;241;43m.\u001b[39;49m\u001b[43mcaptured_inputs\u001b[49m\u001b[43m)\u001b[49m\n",
      "File \u001b[1;32mc:\\Projects\\Final_year_project\\species_env\\lib\\site-packages\\tensorflow\\python\\eager\\polymorphic_function\\monomorphic_function.py:1757\u001b[0m, in \u001b[0;36mConcreteFunction._call_flat\u001b[1;34m(self, args, captured_inputs, cancellation_manager)\u001b[0m\n\u001b[0;32m   1753\u001b[0m possible_gradient_type \u001b[38;5;241m=\u001b[39m gradients_util\u001b[38;5;241m.\u001b[39mPossibleTapeGradientTypes(args)\n\u001b[0;32m   1754\u001b[0m \u001b[38;5;28;01mif\u001b[39;00m (possible_gradient_type \u001b[38;5;241m==\u001b[39m gradients_util\u001b[38;5;241m.\u001b[39mPOSSIBLE_GRADIENT_TYPES_NONE\n\u001b[0;32m   1755\u001b[0m     \u001b[38;5;129;01mand\u001b[39;00m executing_eagerly):\n\u001b[0;32m   1756\u001b[0m   \u001b[38;5;66;03m# No tape is watching; skip to running the function.\u001b[39;00m\n\u001b[1;32m-> 1757\u001b[0m   \u001b[38;5;28;01mreturn\u001b[39;00m \u001b[38;5;28mself\u001b[39m\u001b[38;5;241m.\u001b[39m_build_call_outputs(\u001b[38;5;28;43mself\u001b[39;49m\u001b[38;5;241;43m.\u001b[39;49m\u001b[43m_inference_function\u001b[49m\u001b[38;5;241;43m.\u001b[39;49m\u001b[43mcall\u001b[49m\u001b[43m(\u001b[49m\n\u001b[0;32m   1758\u001b[0m \u001b[43m      \u001b[49m\u001b[43mctx\u001b[49m\u001b[43m,\u001b[49m\u001b[43m \u001b[49m\u001b[43margs\u001b[49m\u001b[43m,\u001b[49m\u001b[43m \u001b[49m\u001b[43mcancellation_manager\u001b[49m\u001b[38;5;241;43m=\u001b[39;49m\u001b[43mcancellation_manager\u001b[49m\u001b[43m)\u001b[49m)\n\u001b[0;32m   1759\u001b[0m forward_backward \u001b[38;5;241m=\u001b[39m \u001b[38;5;28mself\u001b[39m\u001b[38;5;241m.\u001b[39m_select_forward_and_backward_functions(\n\u001b[0;32m   1760\u001b[0m     args,\n\u001b[0;32m   1761\u001b[0m     possible_gradient_type,\n\u001b[0;32m   1762\u001b[0m     executing_eagerly)\n\u001b[0;32m   1763\u001b[0m forward_function, args_with_tangents \u001b[38;5;241m=\u001b[39m forward_backward\u001b[38;5;241m.\u001b[39mforward()\n",
      "File \u001b[1;32mc:\\Projects\\Final_year_project\\species_env\\lib\\site-packages\\tensorflow\\python\\eager\\polymorphic_function\\monomorphic_function.py:381\u001b[0m, in \u001b[0;36m_EagerDefinedFunction.call\u001b[1;34m(self, ctx, args, cancellation_manager)\u001b[0m\n\u001b[0;32m    379\u001b[0m \u001b[38;5;28;01mwith\u001b[39;00m _InterpolateFunctionError(\u001b[38;5;28mself\u001b[39m):\n\u001b[0;32m    380\u001b[0m   \u001b[38;5;28;01mif\u001b[39;00m cancellation_manager \u001b[38;5;129;01mis\u001b[39;00m \u001b[38;5;28;01mNone\u001b[39;00m:\n\u001b[1;32m--> 381\u001b[0m     outputs \u001b[38;5;241m=\u001b[39m \u001b[43mexecute\u001b[49m\u001b[38;5;241;43m.\u001b[39;49m\u001b[43mexecute\u001b[49m\u001b[43m(\u001b[49m\n\u001b[0;32m    382\u001b[0m \u001b[43m        \u001b[49m\u001b[38;5;28;43mstr\u001b[39;49m\u001b[43m(\u001b[49m\u001b[38;5;28;43mself\u001b[39;49m\u001b[38;5;241;43m.\u001b[39;49m\u001b[43msignature\u001b[49m\u001b[38;5;241;43m.\u001b[39;49m\u001b[43mname\u001b[49m\u001b[43m)\u001b[49m\u001b[43m,\u001b[49m\n\u001b[0;32m    383\u001b[0m \u001b[43m        \u001b[49m\u001b[43mnum_outputs\u001b[49m\u001b[38;5;241;43m=\u001b[39;49m\u001b[38;5;28;43mself\u001b[39;49m\u001b[38;5;241;43m.\u001b[39;49m\u001b[43m_num_outputs\u001b[49m\u001b[43m,\u001b[49m\n\u001b[0;32m    384\u001b[0m \u001b[43m        \u001b[49m\u001b[43minputs\u001b[49m\u001b[38;5;241;43m=\u001b[39;49m\u001b[43margs\u001b[49m\u001b[43m,\u001b[49m\n\u001b[0;32m    385\u001b[0m \u001b[43m        \u001b[49m\u001b[43mattrs\u001b[49m\u001b[38;5;241;43m=\u001b[39;49m\u001b[43mattrs\u001b[49m\u001b[43m,\u001b[49m\n\u001b[0;32m    386\u001b[0m \u001b[43m        \u001b[49m\u001b[43mctx\u001b[49m\u001b[38;5;241;43m=\u001b[39;49m\u001b[43mctx\u001b[49m\u001b[43m)\u001b[49m\n\u001b[0;32m    387\u001b[0m   \u001b[38;5;28;01melse\u001b[39;00m:\n\u001b[0;32m    388\u001b[0m     outputs \u001b[38;5;241m=\u001b[39m execute\u001b[38;5;241m.\u001b[39mexecute_with_cancellation(\n\u001b[0;32m    389\u001b[0m         \u001b[38;5;28mstr\u001b[39m(\u001b[38;5;28mself\u001b[39m\u001b[38;5;241m.\u001b[39msignature\u001b[38;5;241m.\u001b[39mname),\n\u001b[0;32m    390\u001b[0m         num_outputs\u001b[38;5;241m=\u001b[39m\u001b[38;5;28mself\u001b[39m\u001b[38;5;241m.\u001b[39m_num_outputs,\n\u001b[1;32m   (...)\u001b[0m\n\u001b[0;32m    393\u001b[0m         ctx\u001b[38;5;241m=\u001b[39mctx,\n\u001b[0;32m    394\u001b[0m         cancellation_manager\u001b[38;5;241m=\u001b[39mcancellation_manager)\n",
      "File \u001b[1;32mc:\\Projects\\Final_year_project\\species_env\\lib\\site-packages\\tensorflow\\python\\eager\\execute.py:52\u001b[0m, in \u001b[0;36mquick_execute\u001b[1;34m(op_name, num_outputs, inputs, attrs, ctx, name)\u001b[0m\n\u001b[0;32m     50\u001b[0m \u001b[38;5;28;01mtry\u001b[39;00m:\n\u001b[0;32m     51\u001b[0m   ctx\u001b[38;5;241m.\u001b[39mensure_initialized()\n\u001b[1;32m---> 52\u001b[0m   tensors \u001b[38;5;241m=\u001b[39m \u001b[43mpywrap_tfe\u001b[49m\u001b[38;5;241;43m.\u001b[39;49m\u001b[43mTFE_Py_Execute\u001b[49m\u001b[43m(\u001b[49m\u001b[43mctx\u001b[49m\u001b[38;5;241;43m.\u001b[39;49m\u001b[43m_handle\u001b[49m\u001b[43m,\u001b[49m\u001b[43m \u001b[49m\u001b[43mdevice_name\u001b[49m\u001b[43m,\u001b[49m\u001b[43m \u001b[49m\u001b[43mop_name\u001b[49m\u001b[43m,\u001b[49m\n\u001b[0;32m     53\u001b[0m \u001b[43m                                      \u001b[49m\u001b[43minputs\u001b[49m\u001b[43m,\u001b[49m\u001b[43m \u001b[49m\u001b[43mattrs\u001b[49m\u001b[43m,\u001b[49m\u001b[43m \u001b[49m\u001b[43mnum_outputs\u001b[49m\u001b[43m)\u001b[49m\n\u001b[0;32m     54\u001b[0m \u001b[38;5;28;01mexcept\u001b[39;00m core\u001b[38;5;241m.\u001b[39m_NotOkStatusException \u001b[38;5;28;01mas\u001b[39;00m e:\n\u001b[0;32m     55\u001b[0m   \u001b[38;5;28;01mif\u001b[39;00m name \u001b[38;5;129;01mis\u001b[39;00m \u001b[38;5;129;01mnot\u001b[39;00m \u001b[38;5;28;01mNone\u001b[39;00m:\n",
      "\u001b[1;31mKeyboardInterrupt\u001b[0m: "
     ]
    }
   ],
   "source": [
    "EPOCHS = 100\n",
    "\n",
    "history = model.fit(\n",
    "    train_ds,\n",
    "    validation_data=val_ds,\n",
    "    epochs=EPOCHS\n",
    ")\n",
    "\n",
    "print(\"\\nModel training complete!\")"
   ]
  },
  {
   "cell_type": "markdown",
   "id": "13a64bfb",
   "metadata": {},
   "source": [
    "Cell 9: Visualize Training History\n",
    "Plotting the training and validation accuracy/loss helps us understand how the model learned over time"
   ]
  },
  {
   "cell_type": "code",
   "execution_count": null,
   "id": "d3424964",
   "metadata": {},
   "outputs": [
    {
     "data": {
      "image/png": "[encoded data removed]",
      "text/plain": [
       "<Figure size 1200x500 with 2 Axes>"
      ]
     },
     "metadata": {},
     "output_type": "display_data"
    }
   ],
   "source": [
    "acc = history.history['accuracy']\n",
    "val_acc = history.history['val_accuracy']\n",
    "loss = history.history['loss']\n",
    "val_loss = history.history['val_loss']\n",
    "epochs_range = range(EPOCHS)\n",
    "\n",
    "plt.figure(figsize=(12, 5))\n",
    "plt.subplot(1, 2, 1)\n",
    "plt.plot(epochs_range, acc, label='Training Accuracy')\n",
    "plt.plot(epochs_range, val_acc, label='Validation Accuracy')\n",
    "plt.legend(loc='lower right')\n",
    "plt.title('Training and Validation Accuracy')\n",
    "\n",
    "plt.subplot(1, 2, 2)\n",
    "plt.plot(epochs_range, loss, label='Training Loss')\n",
    "plt.plot(epochs_range, val_loss, label='Validation Loss')\n",
    "plt.legend(loc='upper right')\n",
    "plt.title('Training and Validation Loss')\n",
    "plt.show()"
   ]
  },
  {
   "cell_type": "markdown",
   "id": "3cca557c",
   "metadata": {},
   "source": [
    "Cell 10: Evaluate on the Test Set\n",
    "This is the true test of our model's performance on data it has never seen before."
   ]
  },
  {
   "cell_type": "code",
   "execution_count": null,
   "id": "04e1f4b1",
   "metadata": {},
   "outputs": [
    {
     "name": "stdout",
     "output_type": "stream",
     "text": [
      "153/153 [==============================] - 75s 486ms/step - loss: 0.0232 - accuracy: 0.3187\n",
      "\n",
      "Test Loss: 0.02321132831275463\n",
      "Test Accuracy: 0.31868356466293335\n"
     ]
    }
   ],
   "source": [
    "test_loss, test_accuracy = model.evaluate(test_ds)\n",
    "print(f\"\\nTest Loss: {test_loss}\")\n",
    "print(f\"Test Accuracy: {test_accuracy}\")    "
   ]
  },
  {
   "cell_type": "markdown",
   "id": "0ca1a8aa",
   "metadata": {},
   "source": [
    "Cell 11: Get Detailed Metrics\n",
    "Accuracy alone can be misleading. A classification_report gives us precision, recall, and F1-score for each bird species, which is much more insightful.\n",
    "\n",
    "Precision: Of all the times the model predicted a certain bird, how often was it correct?\n",
    "\n",
    "Recall: Of all the actual instances of a certain bird, how many did the model correctly identify?"
   ]
  },
  {
   "cell_type": "code",
   "execution_count": null,
   "id": "5a67d774",
   "metadata": {},
   "outputs": [
    {
     "name": "stdout",
     "output_type": "stream",
     "text": [
      "153/153 [==============================] - 62s 407ms/step\n",
      "              precision    recall  f1-score   support\n",
      "\n",
      "      asbfly       0.00      0.00      0.00        21\n",
      "     ashdro1       0.00      0.00      0.00        22\n",
      "     ashpri1       0.00      0.00      0.00        19\n",
      "     ashwoo2       0.00      0.00      0.00         9\n",
      "     asikoe2       1.00      0.02      0.04        55\n",
      "     asiope1       0.00      0.00      0.00         1\n",
      "     aspfly1       0.00      0.00      0.00         5\n",
      "     aspswi1       0.00      0.00      0.00         5\n",
      "     barfly1       0.00      0.00      0.00         4\n",
      "      barswa       1.00      0.02      0.04       100\n",
      "      bcnher       0.82      0.09      0.16       100\n",
      "     bkcbul1       0.00      0.00      0.00         5\n",
      "     bkrfla1       0.00      0.00      0.00         6\n",
      "     bkskit1       1.00      0.06      0.11        54\n",
      "      bkwsti       0.90      0.09      0.16       100\n",
      "     bladro1       0.00      0.00      0.00        25\n",
      "     blaeag1       0.00      0.00      0.00         1\n",
      "     blakit1       0.67      0.09      0.15        46\n",
      "     blhori1       0.00      0.00      0.00        28\n",
      "     blnmon1       0.50      0.03      0.05        35\n",
      "     blrwar1       1.00      0.03      0.06       100\n",
      "     bncwoo3       0.00      0.00      0.00         1\n",
      "     brakit1       0.00      0.00      0.00         9\n",
      "     brasta1       0.00      0.00      0.00         3\n",
      "     brcful1       1.00      0.06      0.11        17\n",
      "     brfowl1       0.00      0.00      0.00         3\n",
      "     brnhao1       1.00      0.12      0.22        24\n",
      "      brnshr       0.00      0.00      0.00        30\n",
      "     brodro1       0.00      0.00      0.00        23\n",
      "     brwjac1       0.00      0.00      0.00         4\n",
      "     brwowl1       0.00      0.00      0.00        16\n",
      "     btbeat1       0.00      0.00      0.00        11\n",
      "     bwfshr1       0.00      0.00      0.00         6\n",
      "      categr       1.00      0.10      0.17        42\n",
      "     chbeat1       0.00      0.00      0.00         4\n",
      "     cohcuc1       0.00      0.00      0.00        15\n",
      "     comfla1       0.00      0.00      0.00         6\n",
      "      comgre       0.00      0.00      0.00       100\n",
      "     comior1       1.00      0.07      0.13        44\n",
      "     comkin1       1.00      0.04      0.08       100\n",
      "     commoo3       1.00      0.07      0.13       100\n",
      "      commyn       0.00      0.00      0.00        48\n",
      "      compea       0.80      0.29      0.42        14\n",
      "      comros       0.84      0.32      0.46       100\n",
      "      comsan       1.00      0.05      0.10       100\n",
      "     comtai1       0.60      0.05      0.09        61\n",
      "     copbar1       0.00      0.00      0.00        25\n",
      "     crbsun2       0.00      0.00      0.00         5\n",
      "     cregos1       0.00      0.00      0.00         8\n",
      "     crfbar1       0.00      0.00      0.00         3\n",
      "     crseag1       0.00      0.00      0.00        31\n",
      "     dafbab1       0.00      0.00      0.00         4\n",
      "     darter2       0.00      0.00      0.00         1\n",
      "     eaywag1       1.00      0.04      0.08       100\n",
      "     emedov2       0.00      0.00      0.00        11\n",
      "      eucdov       0.89      0.08      0.15       100\n",
      "     eurbla2       0.00      0.00      0.00         5\n",
      "      eurcoo       0.88      0.07      0.13       100\n",
      "     forwag1       0.00      0.00      0.00         9\n",
      "      gargan       0.00      0.00      0.00        33\n",
      "      gloibi       0.00      0.00      0.00        21\n",
      "     goflea1       0.00      0.00      0.00         9\n",
      "     graher1       0.63      0.12      0.20       100\n",
      "     grbeat1       0.00      0.00      0.00        13\n",
      "     grecou1       1.00      0.03      0.06        33\n",
      "      greegr       0.33      0.02      0.03        55\n",
      "     grefla1       1.00      0.17      0.29        12\n",
      "     grehor1       0.00      0.00      0.00         7\n",
      "     grejun2       0.00      0.00      0.00        10\n",
      "     grenig1       1.00      0.25      0.40         8\n",
      "     grewar3       0.92      0.11      0.20       100\n",
      "      grnsan       1.00      0.02      0.04       100\n",
      "     grnwar1       0.00      0.00      0.00        29\n",
      "     grtdro1       0.00      0.00      0.00        56\n",
      "      gryfra       0.00      0.00      0.00        11\n",
      "     grynig2       0.00      0.00      0.00         4\n",
      "      grywag       1.00      0.02      0.04       100\n",
      "     gybpri1       0.00      0.00      0.00        23\n",
      "     gyhcaf1       0.00      0.00      0.00        44\n",
      "     heswoo1       0.00      0.00      0.00         4\n",
      "      hoopoe       1.00      0.04      0.08       100\n",
      "     houcro1       0.00      0.00      0.00        28\n",
      "      houspa       0.00      0.00      0.00       100\n",
      "     inbrob1       0.00      0.00      0.00        12\n",
      "     indpit1       0.00      0.00      0.00        12\n",
      "     indrob1       0.00      0.00      0.00         9\n",
      "     indrol2       0.00      0.00      0.00         7\n",
      "     indtit1       0.00      0.00      0.00         2\n",
      "     ingori1       0.00      0.00      0.00         8\n",
      "     inpher1       0.00      0.00      0.00         3\n",
      "     insbab1       0.00      0.00      0.00        13\n",
      "     insowl1       0.00      0.00      0.00         7\n",
      "      integr       0.00      0.00      0.00         1\n",
      "     isbduc1       0.00      0.00      0.00         3\n",
      "     jerbus2       0.00      0.00      0.00         4\n",
      "     junbab2       0.00      0.00      0.00        16\n",
      "     junmyn1       0.00      0.00      0.00         3\n",
      "     junowl1       0.00      0.00      0.00        10\n",
      "     kenplo1       0.00      0.00      0.00        54\n",
      "     kerlau2       0.00      0.00      0.00         3\n",
      "     labcro1       1.00      0.02      0.04        47\n",
      "     laudov1       0.00      0.00      0.00        23\n",
      "     lblwar1       0.00      0.00      0.00        18\n",
      "     lesyel1       0.00      0.00      0.00         4\n",
      "     lewduc1       0.00      0.00      0.00         7\n",
      "      lirplo       0.00      0.00      0.00       100\n",
      "      litegr       0.82      0.17      0.29        81\n",
      "     litgre1       1.00      0.06      0.11       100\n",
      "     litspi1       0.00      0.00      0.00        25\n",
      "     litswi1       0.00      0.00      0.00        15\n",
      "     lobsun2       0.00      0.00      0.00         4\n",
      "     maghor2       0.00      0.00      0.00         6\n",
      "     malpar1       0.00      0.00      0.00         4\n",
      "     maltro1       0.00      0.00      0.00         3\n",
      "     malwoo1       0.00      0.00      0.00         2\n",
      "      marsan       0.00      0.00      0.00        18\n",
      "     mawthr1       0.00      0.00      0.00         9\n",
      "     moipig1       0.00      0.00      0.00         5\n",
      "     nilfly2       0.00      0.00      0.00         2\n",
      "     niwpig1       0.00      0.00      0.00         1\n",
      "      nutman       0.00      0.00      0.00        23\n",
      "     orihob2       0.00      0.00      0.00         8\n",
      "     oripip1       0.00      0.00      0.00        14\n",
      "     pabflo1       0.00      0.00      0.00         9\n",
      "     paisto1       0.00      0.00      0.00         1\n",
      "     piebus1       0.00      0.00      0.00        18\n",
      "     piekin1       0.00      0.00      0.00        28\n",
      "     placuc3       0.00      0.00      0.00         8\n",
      "     plaflo1       0.00      0.00      0.00         4\n",
      "     plapri1       0.00      0.00      0.00        31\n",
      "     plhpar1       0.00      0.00      0.00         6\n",
      "     pomgrp2       0.00      0.00      0.00         2\n",
      "     purher1       0.75      0.05      0.10        55\n",
      "     pursun3       0.00      0.00      0.00        11\n",
      "     pursun4       0.00      0.00      0.00        25\n",
      "     purswa3       0.00      0.00      0.00         8\n",
      "     putbab1       0.57      0.09      0.15        45\n",
      "     redspu1       0.00      0.00      0.00         3\n",
      "     rerswa1       0.00      0.00      0.00        40\n",
      "      revbul       0.00      0.00      0.00        20\n",
      "      rewbul       0.00      0.00      0.00        38\n",
      "     rewlap1       1.00      0.07      0.14        27\n",
      "      rocpig       0.00      0.00      0.00        40\n",
      "      rorpar       0.00      0.00      0.00        84\n",
      "     rossta2       0.00      0.00      0.00        12\n",
      "     rufbab3       0.00      0.00      0.00         3\n",
      "     ruftre2       0.00      0.00      0.00        25\n",
      "     rufwoo2       0.00      0.00      0.00        10\n",
      "     rutfly6       0.00      0.00      0.00         2\n",
      "     sbeowl1       0.00      0.00      0.00         5\n",
      "     scamin3       0.00      0.00      0.00         2\n",
      "     shikra1       0.00      0.00      0.00        19\n",
      "     smamin1       0.00      0.00      0.00         4\n",
      "     sohmyn1       0.00      0.00      0.00         8\n",
      "     spepic1       0.00      0.00      0.00         9\n",
      "      spodov       0.00      0.00      0.00        31\n",
      "     spoowl1       0.00      0.00      0.00         7\n",
      "     sqtbul1       0.00      0.00      0.00         5\n",
      "     stbkin1       0.00      0.00      0.00        24\n",
      "     sttwoo1       0.00      0.00      0.00         4\n",
      "     thbwar1       0.00      0.00      0.00        20\n",
      "     tibfly3       0.00      0.00      0.00        21\n",
      "     tilwar1       0.00      0.00      0.00         4\n",
      "     vefnut1       0.00      0.00      0.00         8\n",
      "     vehpar1       0.00      0.00      0.00         7\n",
      "     wbbfly1       0.00      0.00      0.00         1\n",
      "     wemhar1       0.00      0.00      0.00        55\n",
      "     whbbul2       0.00      0.00      0.00        10\n",
      "     whbsho3       0.00      0.00      0.00         4\n",
      "     whbtre1       0.00      0.00      0.00         4\n",
      "     whbwag1       0.00      0.00      0.00         7\n",
      "     whbwat1       0.67      0.06      0.11        34\n",
      "     whbwoo2       0.00      0.00      0.00        15\n",
      "     whcbar1       0.00      0.00      0.00        11\n",
      "     whiter2       0.00      0.00      0.00        45\n",
      "      whrmun       0.00      0.00      0.00        13\n",
      "     whtkin2       0.00      0.00      0.00        37\n",
      "      woosan       0.00      0.00      0.00       100\n",
      "     wynlau1       0.00      0.00      0.00         1\n",
      "     yebbab1       0.00      0.00      0.00         6\n",
      "     yebbul3       0.00      0.00      0.00         6\n",
      "     zitcis1       0.90      0.18      0.30       100\n",
      "\n",
      "   micro avg       0.84      0.04      0.08      4892\n",
      "   macro avg       0.18      0.02      0.03      4892\n",
      "weighted avg       0.47      0.04      0.07      4892\n",
      " samples avg       0.04      0.04      0.04      4892\n",
      "\n"
     ]
    },
    {
     "name": "stderr",
     "output_type": "stream",
     "text": [
      "c:\\Projects\\Final_year_project\\species_env\\lib\\site-packages\\sklearn\\metrics\\_classification.py:1469: UndefinedMetricWarning: Precision and F-score are ill-defined and being set to 0.0 in labels with no predicted samples. Use `zero_division` parameter to control this behavior.\n",
      "  _warn_prf(average, modifier, msg_start, len(result))\n",
      "c:\\Projects\\Final_year_project\\species_env\\lib\\site-packages\\sklearn\\metrics\\_classification.py:1469: UndefinedMetricWarning: Precision and F-score are ill-defined and being set to 0.0 in samples with no predicted labels. Use `zero_division` parameter to control this behavior.\n",
      "  _warn_prf(average, modifier, msg_start, len(result))\n"
     ]
    }
   ],
   "source": [
    "y_pred_probs = model.predict(test_ds)\n",
    "y_pred = (y_pred_probs > 0.5).astype(int)\n",
    "\n",
    "report = classification_report(y_test, y_pred, target_names=mlb.classes_, zero_division=0)\n",
    "print(report)"
   ]
  },
  {
   "cell_type": "markdown",
   "id": "d7f763ec",
   "metadata": {},
   "source": [
    "Cell 12: Save the Model and Labels\n",
    "Finally, let's save our trained model and the label encoder (MultiLabelBinarizer). We will need both of these files for our Streamlit application."
   ]
  },
  {
   "cell_type": "code",
   "execution_count": null,
   "id": "12e4caf8",
   "metadata": {},
   "outputs": [
    {
     "name": "stdout",
     "output_type": "stream",
     "text": [
      "\n",
      "Model and label encoder saved successfully in the 'models' folder.\n"
     ]
    }
   ],
   "source": [
    "os.makedirs('../models', exist_ok=True)\n",
    "model.save('../models/bird_model.h5')\n",
    "\n",
    "with open('../models/mlb.pkl', 'wb') as f:\n",
    "    pickle.dump(mlb, f)\n",
    "\n",
    "print(\"\\nFinal model and label encoder saved successfully.\") "
   ]
  },
  {
   "cell_type": "code",
   "execution_count": 6,
   "id": "302c9b3b",
   "metadata": {},
   "outputs": [
    {
     "name": "stdout",
     "output_type": "stream",
     "text": [
      "[]\n"
     ]
    }
   ],
   "source": [
    "import tensorflow as tf\n",
    "print(tf.config.list_physical_devices('GPU'))"
   ]
  },
  {
   "cell_type": "code",
   "execution_count": 3,
   "id": "c6d8de0d",
   "metadata": {},
   "outputs": [
    {
     "name": "stdout",
     "output_type": "stream",
     "text": [
      "TF Version: 2.12.0\n"
     ]
    },
    {
     "ename": "KeyError",
     "evalue": "'cuda_version'",
     "output_type": "error",
     "traceback": [
      "\u001b[1;31m---------------------------------------------------------------------------\u001b[0m",
      "\u001b[1;31mKeyError\u001b[0m                                  Traceback (most recent call last)",
      "Cell \u001b[1;32mIn[3], line 5\u001b[0m\n\u001b[0;32m      2\u001b[0m \u001b[38;5;28;01mfrom\u001b[39;00m\u001b[38;5;250m \u001b[39m\u001b[38;5;21;01mtensorflow\u001b[39;00m\u001b[38;5;21;01m.\u001b[39;00m\u001b[38;5;21;01mpython\u001b[39;00m\u001b[38;5;21;01m.\u001b[39;00m\u001b[38;5;21;01mplatform\u001b[39;00m\u001b[38;5;250m \u001b[39m\u001b[38;5;28;01mimport\u001b[39;00m build_info\n\u001b[0;32m      4\u001b[0m \u001b[38;5;28mprint\u001b[39m(\u001b[38;5;124m\"\u001b[39m\u001b[38;5;124mTF Version:\u001b[39m\u001b[38;5;124m\"\u001b[39m, tf\u001b[38;5;241m.\u001b[39m__version__)\n\u001b[1;32m----> 5\u001b[0m \u001b[38;5;28mprint\u001b[39m(\u001b[38;5;124m\"\u001b[39m\u001b[38;5;124mCUDA Version:\u001b[39m\u001b[38;5;124m\"\u001b[39m, \u001b[43mbuild_info\u001b[49m\u001b[38;5;241;43m.\u001b[39;49m\u001b[43mbuild_info\u001b[49m\u001b[43m[\u001b[49m\u001b[38;5;124;43m'\u001b[39;49m\u001b[38;5;124;43mcuda_version\u001b[39;49m\u001b[38;5;124;43m'\u001b[39;49m\u001b[43m]\u001b[49m)\n\u001b[0;32m      6\u001b[0m \u001b[38;5;28mprint\u001b[39m(\u001b[38;5;124m\"\u001b[39m\u001b[38;5;124mcuDNN Version:\u001b[39m\u001b[38;5;124m\"\u001b[39m, build_info\u001b[38;5;241m.\u001b[39mbuild_info[\u001b[38;5;124m'\u001b[39m\u001b[38;5;124mcudnn_version\u001b[39m\u001b[38;5;124m'\u001b[39m])\n",
      "\u001b[1;31mKeyError\u001b[0m: 'cuda_version'"
     ]
    }
   ],
   "source": [
    "import tensorflow as tf\n",
    "from tensorflow.python.platform import build_info\n",
    "\n",
    "print(\"TF Version:\", tf.__version__)\n",
    "print(\"CUDA Version:\", build_info.build_info['cuda_version'])\n",
    "print(\"cuDNN Version:\", build_info.build_info['cudnn_version'])"
   ]
  },
  {
   "cell_type": "code",
   "execution_count": null,
   "id": "e140bad0",
   "metadata": {},
   "outputs": [],
   "source": []
  }
 ],
 "metadata": {
  "kernelspec": {
   "display_name": "species_env",
   "language": "python",
   "name": "python3"
  },
  "language_info": {
   "codemirror_mode": {
    "name": "ipython",
    "version": 3
   },
   "file_extension": ".py",
   "mimetype": "text/x-python",
   "name": "python",
   "nbconvert_exporter": "python",
   "pygments_lexer": "ipython3",
   "version": "3.10.11"
  }
 },
 "nbformat": 4,
 "nbformat_minor": 5
}
