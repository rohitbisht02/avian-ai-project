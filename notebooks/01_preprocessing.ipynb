{
 "cells": [
  {
   "cell_type": "code",
   "execution_count": 1,
   "id": "9ce4ced4",
   "metadata": {},
   "outputs": [],
   "source": [
    "import os\n",
    "import pandas as pd\n",
    "import librosa\n",
    "# ... other imports ...\n",
    "import gc # Add this line"
   ]
  },
  {
   "cell_type": "code",
   "execution_count": 2,
   "id": "c626880d",
   "metadata": {},
   "outputs": [
    {
     "name": "stdout",
     "output_type": "stream",
     "text": [
      "Requirement already satisfied: ipywidgets in c:\\projects\\final_year_project\\species_env\\lib\\site-packages (8.1.7)\n",
      "Requirement already satisfied: comm>=0.1.3 in c:\\projects\\final_year_project\\species_env\\lib\\site-packages (from ipywidgets) (0.2.2)\n",
      "Requirement already satisfied: jupyterlab_widgets~=3.0.15 in c:\\projects\\final_year_project\\species_env\\lib\\site-packages (from ipywidgets) (3.0.15)\n",
      "Requirement already satisfied: traitlets>=4.3.1 in c:\\projects\\final_year_project\\species_env\\lib\\site-packages (from ipywidgets) (5.14.3)\n",
      "Requirement already satisfied: ipython>=6.1.0 in c:\\projects\\final_year_project\\species_env\\lib\\site-packages (from ipywidgets) (8.37.0)\n",
      "Requirement already satisfied: widgetsnbextension~=4.0.14 in c:\\projects\\final_year_project\\species_env\\lib\\site-packages (from ipywidgets) (4.0.14)\n",
      "Requirement already satisfied: decorator in c:\\projects\\final_year_project\\species_env\\lib\\site-packages (from ipython>=6.1.0->ipywidgets) (5.2.1)\n",
      "Requirement already satisfied: prompt_toolkit<3.1.0,>=3.0.41 in c:\\projects\\final_year_project\\species_env\\lib\\site-packages (from ipython>=6.1.0->ipywidgets) (3.0.51)\n",
      "Requirement already satisfied: exceptiongroup in c:\\projects\\final_year_project\\species_env\\lib\\site-packages (from ipython>=6.1.0->ipywidgets) (1.3.0)\n",
      "Requirement already satisfied: stack_data in c:\\projects\\final_year_project\\species_env\\lib\\site-packages (from ipython>=6.1.0->ipywidgets) (0.6.3)\n",
      "Requirement already satisfied: pygments>=2.4.0 in c:\\projects\\final_year_project\\species_env\\lib\\site-packages (from ipython>=6.1.0->ipywidgets) (2.19.2)\n",
      "Requirement already satisfied: matplotlib-inline in c:\\projects\\final_year_project\\species_env\\lib\\site-packages (from ipython>=6.1.0->ipywidgets) (0.1.7)\n",
      "Requirement already satisfied: typing_extensions>=4.6 in c:\\projects\\final_year_project\\species_env\\lib\\site-packages (from ipython>=6.1.0->ipywidgets) (4.14.1)\n",
      "Requirement already satisfied: jedi>=0.16 in c:\\projects\\final_year_project\\species_env\\lib\\site-packages (from ipython>=6.1.0->ipywidgets) (0.19.2)\n",
      "Requirement already satisfied: colorama in c:\\projects\\final_year_project\\species_env\\lib\\site-packages (from ipython>=6.1.0->ipywidgets) (0.4.6)\n",
      "Requirement already satisfied: parso<0.9.0,>=0.8.4 in c:\\projects\\final_year_project\\species_env\\lib\\site-packages (from jedi>=0.16->ipython>=6.1.0->ipywidgets) (0.8.4)\n",
      "Requirement already satisfied: wcwidth in c:\\projects\\final_year_project\\species_env\\lib\\site-packages (from prompt_toolkit<3.1.0,>=3.0.41->ipython>=6.1.0->ipywidgets) (0.2.13)\n",
      "Requirement already satisfied: executing>=1.2.0 in c:\\projects\\final_year_project\\species_env\\lib\\site-packages (from stack_data->ipython>=6.1.0->ipywidgets) (2.2.0)\n",
      "Requirement already satisfied: pure-eval in c:\\projects\\final_year_project\\species_env\\lib\\site-packages (from stack_data->ipython>=6.1.0->ipywidgets) (0.2.3)\n",
      "Requirement already satisfied: asttokens>=2.1.0 in c:\\projects\\final_year_project\\species_env\\lib\\site-packages (from stack_data->ipython>=6.1.0->ipywidgets) (3.0.0)\n",
      "Note: you may need to restart the kernel to use updated packages.\n"
     ]
    },
    {
     "name": "stderr",
     "output_type": "stream",
     "text": [
      "\n",
      "[notice] A new release of pip is available: 23.0.1 -> 25.1.1\n",
      "[notice] To update, run: python.exe -m pip install --upgrade pip\n"
     ]
    }
   ],
   "source": [
    "%pip install ipywidgets"
   ]
  },
  {
   "cell_type": "code",
   "execution_count": 3,
   "id": "76f3bdb6",
   "metadata": {},
   "outputs": [
    {
     "name": "stdout",
     "output_type": "stream",
     "text": [
      "Requirement already satisfied: noisereduce in c:\\projects\\final_year_project\\species_env\\lib\\site-packages (3.0.3)\n",
      "Requirement already satisfied: joblib in c:\\projects\\final_year_project\\species_env\\lib\\site-packages (from noisereduce) (1.5.1)\n",
      "Requirement already satisfied: matplotlib in c:\\projects\\final_year_project\\species_env\\lib\\site-packages (from noisereduce) (3.7.1)\n",
      "Requirement already satisfied: scipy in c:\\projects\\final_year_project\\species_env\\lib\\site-packages (from noisereduce) (1.15.3)\n",
      "Requirement already satisfied: numpy in c:\\projects\\final_year_project\\species_env\\lib\\site-packages (from noisereduce) (1.23.5)\n",
      "Requirement already satisfied: tqdm in c:\\projects\\final_year_project\\species_env\\lib\\site-packages (from noisereduce) (4.67.1)\n",
      "Requirement already satisfied: contourpy>=1.0.1 in c:\\projects\\final_year_project\\species_env\\lib\\site-packages (from matplotlib->noisereduce) (1.3.2)\n",
      "Requirement already satisfied: python-dateutil>=2.7 in c:\\projects\\final_year_project\\species_env\\lib\\site-packages (from matplotlib->noisereduce) (2.9.0.post0)\n",
      "Requirement already satisfied: fonttools>=4.22.0 in c:\\projects\\final_year_project\\species_env\\lib\\site-packages (from matplotlib->noisereduce) (4.59.0)\n",
      "Requirement already satisfied: packaging>=20.0 in c:\\projects\\final_year_project\\species_env\\lib\\site-packages (from matplotlib->noisereduce) (24.2)\n",
      "Requirement already satisfied: pyparsing>=2.3.1 in c:\\projects\\final_year_project\\species_env\\lib\\site-packages (from matplotlib->noisereduce) (3.2.3)\n",
      "Requirement already satisfied: pillow>=6.2.0 in c:\\projects\\final_year_project\\species_env\\lib\\site-packages (from matplotlib->noisereduce) (10.4.0)\n",
      "Requirement already satisfied: cycler>=0.10 in c:\\projects\\final_year_project\\species_env\\lib\\site-packages (from matplotlib->noisereduce) (0.12.1)\n",
      "Requirement already satisfied: kiwisolver>=1.0.1 in c:\\projects\\final_year_project\\species_env\\lib\\site-packages (from matplotlib->noisereduce) (1.4.8)\n",
      "Requirement already satisfied: colorama in c:\\projects\\final_year_project\\species_env\\lib\\site-packages (from tqdm->noisereduce) (0.4.6)\n",
      "Requirement already satisfied: six>=1.5 in c:\\projects\\final_year_project\\species_env\\lib\\site-packages (from python-dateutil>=2.7->matplotlib->noisereduce) (1.17.0)\n",
      "Note: you may need to restart the kernel to use updated packages.\n"
     ]
    },
    {
     "name": "stderr",
     "output_type": "stream",
     "text": [
      "\n",
      "[notice] A new release of pip is available: 23.0.1 -> 25.1.1\n",
      "[notice] To update, run: python.exe -m pip install --upgrade pip\n"
     ]
    }
   ],
   "source": [
    "%pip install noisereduce"
   ]
  },
  {
   "cell_type": "markdown",
   "id": "bd1bc233",
   "metadata": {},
   "source": [
    "Cell 1: Imports and Configuration\n",
    "This cell imports all necessary libraries and sets up the configuration variables for our processing task."
   ]
  },
  {
   "cell_type": "code",
   "execution_count": 4,
   "id": "4f265535",
   "metadata": {},
   "outputs": [
    {
     "name": "stdout",
     "output_type": "stream",
     "text": [
      "Configuration and libraries are ready.\n"
     ]
    }
   ],
   "source": [
    "import os\n",
    "import pandas as pd\n",
    "import librosa\n",
    "import librosa.display\n",
    "import numpy as np\n",
    "import noisereduce as nr\n",
    "import matplotlib.pyplot as plt\n",
    "from tqdm.notebook  import tqdm\n",
    "\n",
    "# --- Configuration ---\n",
    "# Define paths\n",
    "METADATA_PATH = '../data/birds/metadata.csv'\n",
    "OUTPUT_SPECTROGRAM_DIR = '../data/birds/spectrograms/'\n",
    "\n",
    "# Audio processing settings\n",
    "SAMPLE_RATE = 32000  # Sample rate for audio processing\n",
    "DURATION = 5         # Duration to process in seconds\n",
    "N_MELS = 128         # Number of Mel bands\n",
    "FMIN = 20            # Minimum frequency\n",
    "FMAX = 16000         # Maximum frequency\n",
    "\n",
    "# Ensure the output directory exists\n",
    "os.makedirs(OUTPUT_SPECTROGRAM_DIR, exist_ok=True)\n",
    "\n",
    "print(\"Configuration and libraries are ready.\")"
   ]
  },
  {
   "cell_type": "markdown",
   "id": "a6324649",
   "metadata": {},
   "source": [
    "Cell 2: Spectrogram Creation Function\n",
    "This cell defines the main function that will perform the conversion for a single audio file."
   ]
  },
  {
   "cell_type": "code",
   "execution_count": 5,
   "id": "7d498c37",
   "metadata": {},
   "outputs": [
    {
     "name": "stdout",
     "output_type": "stream",
     "text": [
      "Spectrogram creation function is defined.\n"
     ]
    }
   ],
   "source": [
    "def create_spectrogram(audio_path, output_path):\n",
    "    \"\"\"\n",
    "    Loads an audio file, processes it, and saves its Mel spectrogram as an image.\n",
    "    \"\"\"\n",
    "    try:\n",
    "        # 1. Load the audio file, resampling to our standard sample rate\n",
    "        y, sr = librosa.load(audio_path, sr=SAMPLE_RATE)\n",
    "\n",
    "        # 2. Trim or pad audio to the target duration\n",
    "        target_length = DURATION * sr\n",
    "        if len(y) > target_length:\n",
    "            y = y[:target_length]\n",
    "        else:\n",
    "            y = np.pad(y, (0, target_length - len(y)), 'constant')\n",
    "\n",
    "        # 3. Reduce background noise\n",
    "        y_reduced = nr.reduce_noise(y=y, sr=sr, stationary=True, prop_decrease=0.85)\n",
    "\n",
    "        # 4. Generate Mel spectrogram\n",
    "        S = librosa.feature.melspectrogram(\n",
    "            y=y_reduced,\n",
    "            sr=sr,\n",
    "            n_mels=N_MELS,\n",
    "            fmin=FMIN,\n",
    "            fmax=FMAX\n",
    "        )\n",
    "        S_dB = librosa.power_to_db(S, ref=np.max)\n",
    "\n",
    "        # 5. Save the spectrogram image without any borders or axes\n",
    "        fig = plt.figure(figsize=[1, 1])\n",
    "        ax = fig.add_subplot(111)\n",
    "        ax.axes.get_xaxis().set_visible(False)\n",
    "        ax.axes.get_yaxis().set_visible(False)\n",
    "        ax.set_frame_on(False)\n",
    "        librosa.display.specshow(S_dB, sr=sr, fmin=FMIN, fmax=FMAX, ax=ax)\n",
    "        plt.savefig(output_path, dpi=300, bbox_inches='tight', pad_inches=0)\n",
    "        plt.close(fig)\n",
    "\n",
    "    except Exception as e:\n",
    "        print(f\"Error processing {audio_path}: {e}\")\n",
    "print(\"Spectrogram creation function is defined.\")"
   ]
  },
  {
   "cell_type": "markdown",
   "id": "605ecf27",
   "metadata": {},
   "source": [
    "Cell 3: Main Processing Loop\n",
    "This is the final cell. Running this will start the main process. It reads your metadata.csv and loops through every file, calling the function from Cell 2 on each one."
   ]
  },
  {
   "cell_type": "code",
   "execution_count": 6,
   "id": "bc82a2ba",
   "metadata": {},
   "outputs": [
    {
     "data": {
      "application/vnd.jupyter.widget-view+json": {
       "model_id": "69b187bd28a14e7191f372a2c4bd904d",
       "version_major": 2,
       "version_minor": 0
      },
      "text/plain": [
       "Processing audio files:   0%|          | 0/24459 [00:00<?, ?it/s]"
      ]
     },
     "metadata": {},
     "output_type": "display_data"
    },
    {
     "name": "stdout",
     "output_type": "stream",
     "text": [
      "\n",
      "Preprocessing complete. Spectrograms saved in '../data/birds/spectrograms/'.\n"
     ]
    }
   ],
   "source": [
    "# Load metadata\n",
    "metadata = pd.read_csv(METADATA_PATH)\n",
    "\n",
    "# Use tqdm for a progress bar within the notebook\n",
    "for index, row in tqdm(metadata.iterrows(), total=metadata.shape[0], desc=\"Processing audio files\"):\n",
    "    \n",
    "    # This line is correct\n",
    "    audio_file_path = '../' + row['file_path'].replace('\\\\', '/')\n",
    "    \n",
    "    species_name = row['species_name']\n",
    "    \n",
    "    # Create a unique filename for the spectrogram\n",
    "    base_filename = os.path.splitext(os.path.basename(audio_file_path))[0]\n",
    "    output_filename = f\"{species_name}_{base_filename}.png\"\n",
    "    \n",
    "    # THIS IS THE CORRECTED LINE:\n",
    "    output_spectrogram_path = os.path.join(OUTPUT_SPECTROGRAM_DIR, output_filename)\n",
    "    \n",
    "    # Create spectrogram only if it doesn't already exist\n",
    "    if not os.path.exists(output_spectrogram_path):\n",
    "        create_spectrogram(audio_file_path, output_spectrogram_path)\n",
    "            \n",
    "    # Force Python to clean up memory after each iteration\n",
    "    gc.collect()\n",
    "\n",
    "print(f\"\\nPreprocessing complete. Spectrograms saved in '{OUTPUT_SPECTROGRAM_DIR}'.\")"
   ]
  },
  {
   "cell_type": "code",
   "execution_count": null,
   "id": "4b4aa236",
   "metadata": {},
   "outputs": [],
   "source": [
    "import tensorflow as tf\n",
    "from tensorflow.python.platform import build_info\n",
    "\n",
    "print(\"TF Version:\", tf.__version__)\n",
    "print(\"CUDA Version:\", build_info.build_info['cuda_version'])\n",
    "print(\"cuDNN Version:\", build_info.build_info['cudnn_version'])\n"
   ]
  },
  {
   "cell_type": "code",
   "execution_count": null,
   "id": "5e150ac1",
   "metadata": {},
   "outputs": [],
   "source": []
  }
 ],
 "metadata": {
  "kernelspec": {
   "display_name": "tf-gpu",
   "language": "python",
   "name": "python3"
  },
  "language_info": {
   "codemirror_mode": {
    "name": "ipython",
    "version": 3
   },
   "file_extension": ".py",
   "mimetype": "text/x-python",
   "name": "python",
   "nbconvert_exporter": "python",
   "pygments_lexer": "ipython3",
   "version": "3.10.11"
  }
 },
 "nbformat": 4,
 "nbformat_minor": 5
}
